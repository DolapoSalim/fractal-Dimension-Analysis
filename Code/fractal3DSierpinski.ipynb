{
 "cells": [
  {
   "cell_type": "markdown",
   "metadata": {},
   "source": [
    "## Import Libraries\n",
    "import numpy as np: This imports the NumPy library, which is used for mathematical operations, especially those involving arrays (like grids or matrices).\n",
    "import matplotlib.pyplot as plt: This imports the Matplotlib library, which is used for creating plots (graphs). We will use it to visualize the data."
   ]
  },
  {
   "cell_type": "code",
   "execution_count": null,
   "metadata": {},
   "outputs": [],
   "source": [
    "import numpy as numpy\n",
    "import matplotlib.pyplot as plt"
   ]
  },
  {
   "cell_type": "markdown",
   "metadata": {},
   "source": [
    "## Fractal Dimension Function\n",
    "def *fractal_dimension_3d(grid)*:: This defines a function named *fractal_dimension_3d* that takes one input, grid, which is a 3D array representing the fractal object. This grid will be a 3D numpy array where:\n",
    " - 1 represents occupied space (the fractal part),\n",
    " - 0 represents empty space."
   ]
  },
  {
   "cell_type": "code",
   "execution_count": null,
   "metadata": {},
   "outputs": [],
   "source": [
    "def fractal_dimension_3d(grid):\n",
    "    \"\"\"\n",
    "    Calculate the fractal dimension of a 3D object using the box-counting method.\n",
    "    Args:\n",
    "        grid: A 3D numpy array where 1 indicates the object and 0 is empty space.\n",
    "    Returns:\n",
    "        fractal_dimension: The fractal dimension of the object.\n",
    "    \"\"\""
   ]
  },
  {
   "cell_type": "markdown",
   "metadata": {},
   "source": [
    "## Ensuring the Grid is Binary\n",
    "*grid = (grid > 0)*: This line ensures that the grid contains only 1s (for occupied) and 0s (for empty). Any positive value in the grid gets turned into 1, and 0 remains as 0. This makes sure we only have two values: 0 (empty) and 1 (filled)."
   ]
  },
  {
   "cell_type": "code",
   "execution_count": null,
   "metadata": {},
   "outputs": [],
   "source": [
    "grid = (grid > 0)"
   ]
  },
  {
   "cell_type": "markdown",
   "metadata": {},
   "source": [
    "## Grid Size and Validation\n",
    "*size = grid.shape[0]*: This gets the size of the grid. Since the grid is assumed to be a cube (NxNxN), we only need the size of one dimension (all three dimensions are the same).\n",
    "*assert grid.shape[0] == grid.shape[1] == grid.shape[2]*: This line checks if the grid is indeed a cube. If it's not, it will stop the program and show the error message \"Grid must be a cube!\"."
   ]
  },
  {
   "cell_type": "code",
   "execution_count": null,
   "metadata": {},
   "outputs": [],
   "source": [
    "size = grid.shape[0]  # Assume the grid is a cube (NxNxN)\n",
    "assert grid.shape[0] == grid.shape[1] == grid.shape[2], \"Grid must be a cube!\""
   ]
  },
  {
   "cell_type": "markdown",
   "metadata": {},
   "source": [
    "## Define Scales (Box Sizes)\n",
    "*np.logspace(0, np.log2(size), num=10, base=2, endpoint=False)*: This creates an array of 10 scales using a logarithmic scale, spaced between 1 and the size of the grid (in powers of 2).\n",
    " - np.log2(size) gives the logarithmic scale based on the grid size.\n",
    " - base=2 makes the scale exponential in base 2 (like powers of 2).\n",
    " - num=10 creates 10 values.\n",
    " - endpoint=False ensures the last value isn't included in the range.\n",
    "\n",
    "*np.floor(...).astype(int)*: This rounds the scale values down and converts them into integers.\n",
    "\n",
    "*scales = scales[scales > 1]*: This removes any scale that is less than or equal to 1, because we want meaningful box sizes.\n",
    "\n",
    "*scales = [scale for scale in scales if size % scale == 0]*: This keeps only the scales that divide the grid size exactly (without leaving a remainder). If a scale doesn't fit evenly into the grid, it is removed."
   ]
  },
  {
   "cell_type": "code",
   "execution_count": null,
   "metadata": {},
   "outputs": [],
   "source": [
    "scales = np.floor(np.logspace(0, np.log2(size), num=10, base=2, endpoint=False)).astype(int)\n",
    "scales = scales[scales > 1]  # Exclude box size 1 (too small)\n",
    "scales = [scale for scale in scales if size % scale == 0]  # Keep only divisible scales\n"
   ]
  },
  {
   "cell_type": "markdown",
   "metadata": {},
   "source": [
    "## Counting Non-Empty Boxes at Each Scale\n",
    "- Ns = []: This initializes an empty list Ns where we will store the number of non-empty boxes at each scale.\n",
    "\n",
    "- *for scale in scales*:: This starts a loop to process each scale.\n",
    "\n",
    "Inside the loop:\n",
    "\n",
    "- *grid.reshape(...)*: This reshapes the grid into smaller blocks of the current scale. We are dividing the grid into smaller cubes of size (scale x scale x scale). For example, if the scale is 3, we divide the grid into smaller cubes of size 3x3x3.\n",
    "- *.max(axis=(1, 3, 5))*: This reduces each block to its maximum value along each dimension. If there is any 1 in the block, it becomes 1, otherwise, it stays 0. This ensures that if there is any part of the object in a box, the box is considered \"occupied.\"\n",
    "- *np.sum(sub_boxes > 0)*: This counts how many of these blocks are \"occupied\" (i.e., contain a 1). This count is appended to the Ns list."
   ]
  },
  {
   "cell_type": "code",
   "execution_count": null,
   "metadata": {},
   "outputs": [],
   "source": [
    "Ns = []  # Store the number of boxes at each scale\n",
    "\n",
    "for scale in scales:\n",
    "        sub_boxes = (\n",
    "            grid.reshape(size // scale, scale,\n",
    "                         size // scale, scale,\n",
    "                         size // scale, scale)\n",
    "                .max(axis=(1, 3, 5))\n",
    "        )\n",
    "        Ns.append(np.sum(sub_boxes > 0))"
   ]
  },
  {
   "cell_type": "markdown",
   "metadata": {},
   "source": [
    "## Checking for Enough Scales\n",
    "This checks if there are enough valid scales (at least 2) for a reliable fit. If there are fewer than 2, it raises an error and tells you to adjust the grid size or scales."
   ]
  },
  {
   "cell_type": "code",
   "execution_count": null,
   "metadata": {},
   "outputs": [],
   "source": [
    "if len(scales) < 2:\n",
    "    raise ValueError(\"Not enough valid scales for a reliable fit. Increase the grid size or refine scales.\")\n"
   ]
  },
  {
   "cell_type": "markdown",
   "metadata": {},
   "source": [
    "## Calculating the Fractal Dimension\n",
    "*np.log(scales)*: This takes the natural logarithm of the scales (logarithmic transformation of the scale values).\n",
    "*np.log(Ns)*: This takes the natural logarithm of the counts of occupied boxes (logarithmic transformation of the Ns values).\n",
    "*np.polyfit(log_scales, log_Ns, 1)*: This fits a straight line to the data in a log-log plot (using linear regression). The slope of this line corresponds to the fractal dimension. The 1 means we're fitting a straight line (1st degree polynomial)."
   ]
  },
  {
   "cell_type": "code",
   "execution_count": null,
   "metadata": {},
   "outputs": [],
   "source": [
    "log_scales = np.log(scales)\n",
    "log_Ns = np.log(Ns)\n",
    "coeffs = np.polyfit(log_scales, log_Ns, 1)"
   ]
  },
  {
   "cell_type": "markdown",
   "metadata": {},
   "source": [
    "## Extracting the Fractal Dimension and Plotting\n",
    "The slope (fractal dimension) is -coeffs[0] because the slope of a log-log plot of the form \n",
    "𝑁\n",
    "(\n",
    "𝑠\n",
    ")\n",
    "∼\n",
    "𝑠\n",
    "−\n",
    "𝐷\n",
    "N(s)∼s \n",
    "−D\n",
    "  is negative."
   ]
  },
  {
   "cell_type": "code",
   "execution_count": null,
   "metadata": {},
   "outputs": [],
   "source": [
    "fractal_dimension = -coeffs[0]"
   ]
  },
  {
   "cell_type": "markdown",
   "metadata": {},
   "source": [
    "## Plotting the Results\n",
    "- *plt.figure(figsize=(6, 4))*: This creates a new plot with a size of 6x4 inches.\n",
    "- *plt.plot(log_scales, log_Ns, 'o', mfc='none', label='Data')*: This plots the log-log data points (log_scales vs. log_Ns) as circles.\n",
    "- *plt.plot(...)*: This plots the fitted line from the regression with the fractal dimension D shown in the legend.\n",
    "- *plt.xlabel(), plt.ylabel()*: These set the labels for the x and y axes.\n",
    "- *plt.legend()*: This adds a legend to the plot.\n",
    "- *plt.title()*: This adds a title to the plot.\n",
    "- *plt.grid()*: This adds a grid to the plot.\n",
    "- *plt.show()*: This displays the plot."
   ]
  },
  {
   "cell_type": "code",
   "execution_count": null,
   "metadata": {},
   "outputs": [],
   "source": [
    "plt.figure(figsize=(6, 4))\n",
    "plt.plot(log_scales, log_Ns, 'o', mfc='none', label='Data')\n",
    "plt.plot(log_scales, np.polyval(coeffs, log_scales), label=f'Fit (D = {fractal_dimension:.3f})')\n",
    "plt.xlabel('log(Scale)')\n",
    "plt.ylabel('log(Number of Boxes)')\n",
    "plt.legend()\n",
    "plt.title('3D Fractal Dimension')\n",
    "plt.grid()\n",
    "plt.show()"
   ]
  },
  {
   "cell_type": "markdown",
   "metadata": {},
   "source": [
    "## Return Fractal Dimension\n",
    "Finally, the function returns the calculated fractal dimension."
   ]
  },
  {
   "cell_type": "code",
   "execution_count": null,
   "metadata": {},
   "outputs": [],
   "source": [
    "return fractal_dimension\n"
   ]
  },
  {
   "cell_type": "markdown",
   "metadata": {},
   "source": [
    "## Sierpinski Carpet Function\n",
    "- This function creates a 3D Sierpinski carpet fractal by repeatedly removing cubes from the center.\n",
    "- *np.ones((size, size, size), dtype=bool)* creates an initial 3D grid filled with 1s (occupied).\n",
    "- The loop removes parts of the grid by setting portions of it to 0 (empty space), following the Sierpinski fractal pattern."
   ]
  },
  {
   "cell_type": "code",
   "execution_count": null,
   "metadata": {},
   "outputs": [],
   "source": [
    "def sierpinski_carpet_3d(n, size):\n",
    "    \"\"\"Create a 3D Sierpinski carpet fractal.\"\"\"\n",
    "    grid = np.ones((size, size, size), dtype=bool)\n",
    "    for _ in range(n):\n",
    "        step = size // 3\n",
    "        grid[step:2*step, step:2*step, :] = 0\n",
    "        grid[step:2*step, :, step:2*step] = 0\n",
    "        grid[:, step:2*step, step:2*step] = 0\n",
    "        size //= 3\n",
    "    return grid"
   ]
  },
  {
   "cell_type": "markdown",
   "metadata": {},
   "source": [
    "## Example Usage\n",
    "- *size = 243*: Defines the size of the grid.\n",
    "- *grid = sierpinski_carpet_3d(5, size)*: Generates a 3D Sierpinski fractal with 5 iterations.\n",
    "- *fractal_dimension_3d(grid)*: Computes the fractal dimension of the generated grid.\n",
    "- *print(f\"Fractal Dimension: {fractal_dim:.3f}\")*: Prints the computed fractal dimension.\n"
   ]
  },
  {
   "cell_type": "code",
   "execution_count": null,
   "metadata": {},
   "outputs": [],
   "source": [
    "size = 243  # Larger size allows more valid scales\n",
    "grid = sierpinski_carpet_3d(5, size)  # Increase iterations for finer detail\n",
    "\n",
    "try:\n",
    "    fractal_dim = fractal_dimension_3d(grid)\n",
    "    print(f\"Fractal Dimension: {fractal_dim:.3f}\")\n",
    "except ValueError as e:\n",
    "    print(\"Error:\", e)"
   ]
  }
 ],
 "metadata": {
  "language_info": {
   "name": "python"
  }
 },
 "nbformat": 4,
 "nbformat_minor": 2
}
